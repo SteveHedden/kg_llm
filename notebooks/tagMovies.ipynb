{
 "cells": [
  {
   "cell_type": "code",
   "execution_count": 2,
   "id": "c27443e4-ffb3-41c5-a77d-47c45ca3f112",
   "metadata": {},
   "outputs": [],
   "source": [
    "import openai\n",
    "import os\n",
    "import re\n",
    "import pandas as pd\n",
    "from tqdm import tqdm\n",
    "import ast\n",
    "from sklearn.metrics.pairwise import cosine_similarity\n",
    "import numpy as np\n",
    "import spacy\n"
   ]
  },
  {
   "cell_type": "code",
   "execution_count": 3,
   "id": "b0ac2c5f-bc06-49eb-be3c-540db805c648",
   "metadata": {},
   "outputs": [],
   "source": [
    "# Load English tokenizer, tagger, parser and NER\n",
    "nlp = spacy.load(\"en_core_web_sm\")"
   ]
  },
  {
   "cell_type": "code",
   "execution_count": 652,
   "id": "1ed202be-d22b-44b0-8dc1-4309d847ae2c",
   "metadata": {},
   "outputs": [],
   "source": [
    "#Read in our genre list\n",
    "genres = pd.read_csv('genres_taxonomy_quick.csv')  # Replace 'genres_taxonomy_quick.csv' with the actual file name\n",
    "genres = genres['genre']\n",
    "\n",
    "#Read in our movie data\n",
    "movies = pd.read_csv(\"netflix_titles.csv\")\n",
    "movies = movies.sample(n=1000) #This takes a while to run so I didn't do it for the entire dataset at once"
   ]
  },
  {
   "cell_type": "code",
   "execution_count": 6,
   "id": "9c6375dc-49c8-4e25-b1cb-619b6570470b",
   "metadata": {},
   "outputs": [],
   "source": [
    "os.environ[\"OPENAI_API_KEY\"] = \"XXXXXXXXX\"  # replace with yours"
   ]
  },
  {
   "cell_type": "code",
   "execution_count": 767,
   "id": "630ace49-addd-40ea-8d2c-79a8f55f7d66",
   "metadata": {},
   "outputs": [],
   "source": [
    "def predict_genres(movie_description):\n",
    "    prompt = f\"Predict the top three genres for a movie with the following description: {movie_description}\"\n",
    "    response = openai.completions.create(\n",
    "      model=\"gpt-3.5-turbo-instruct\",  # You can use the GPT-3 model for this task\n",
    "      prompt=prompt,\n",
    "      max_tokens=50,\n",
    "      n=1,\n",
    "      stop=None,\n",
    "      temperature=0.2\n",
    "    )\n",
    "    predicted_genres = response.choices[0].text.strip()\n",
    "    return predicted_genres"
   ]
  },
  {
   "cell_type": "code",
   "execution_count": 768,
   "id": "c150e115-5b3c-4f87-985c-afd495f559c5",
   "metadata": {},
   "outputs": [],
   "source": [
    "def filter_predicted_genres(predicted_genres, predefined_genres):\n",
    "    # Use word embeddings to calculate semantic similarity between predicted and predefined genres\n",
    "    predicted_genres_tokens = nlp(predicted_genres)\n",
    "    predicted_genres_tokens = predicted_genres_tokens.text\n",
    "    # Use regular expression to extract genres\n",
    "    genres_with_numbers = re.findall(r'\\d+\\.\\s*([^\\n]+)', predicted_genres_tokens)\n",
    "    # Remove leading/trailing whitespaces from each genre\n",
    "    predicted_genres = [genre.strip().lower() for genre in genres_with_numbers]\n",
    "\n",
    "    filtered_genres = []\n",
    "    similarity_scores = []\n",
    "\n",
    "    for predicted_genre in predicted_genres:\n",
    "        max_similarity = 0\n",
    "        best_match = None\n",
    "        for predefined_genre in predefined_genres:\n",
    "            similarity_score = nlp(predicted_genre).similarity(nlp(predefined_genre))\n",
    "            if similarity_score > max_similarity:  # Adjust the threshold as needed\n",
    "                max_similarity = similarity_score\n",
    "                best_match = predefined_genre\n",
    "        filtered_genres.append(best_match)\n",
    "        similarity_scores.append(max_similarity)\n",
    "\n",
    "    # Sort the filtered genres based on the similarity scores\n",
    "    filtered_genres = [x for _, x in sorted(zip(similarity_scores, filtered_genres), reverse=True)]\n",
    "    \n",
    "    return filtered_genres"
   ]
  },
  {
   "cell_type": "code",
   "execution_count": 770,
   "id": "45fa1607-a2a8-445b-8e98-d6631737ef95",
   "metadata": {},
   "outputs": [],
   "source": [
    "movies['predicted_genres'] = \"\""
   ]
  },
  {
   "cell_type": "code",
   "execution_count": 771,
   "id": "08539015-59de-4452-8254-5e7d8d60038d",
   "metadata": {},
   "outputs": [
    {
     "name": "stderr",
     "output_type": "stream",
     "text": [
      "  0%|          | 0/4 [00:00<?, ?it/s]/var/folders/m3/8fbzg1013fj174kvh94k5fvh0000gp/T/ipykernel_9588/3731306854.py:21: UserWarning: [W007] The model you're using has no word vectors loaded, so the result of the Doc.similarity method will be based on the tagger, parser and NER, which may not give useful similarity judgements. This may happen if you're using one of the small models, e.g. `en_core_web_sm`, which don't ship with word vectors and only use context-sensitive tensors. You can always add your own word vectors, or use one of the larger models instead if available.\n",
      "  similarity_score = nlp(predicted_genre).similarity(nlp(predefined_genre))\n",
      "100%|██████████| 4/4 [00:33<00:00,  8.44s/it]\n"
     ]
    }
   ],
   "source": [
    "def add_predicted_genres_to_df(df, predefined_genres):   \n",
    "    # Iterate through the dataframe\n",
    "    for index, row in tqdm(df.iterrows(), total=df.shape[0]):\n",
    "        # Apply the predict_genres function to the movie description\n",
    "        predicted_genres = predict_genres(row['description'])\n",
    "        # Prioritize the predicted genres\n",
    "        filtered_genres = filter_predicted_genres(predicted_genres, predefined_genres)\n",
    "        # Add the prioritized genres to the dataframe\n",
    "        df.at[index, 'predicted_genres'] = filtered_genres\n",
    "    \n",
    "\n",
    "add_predicted_genres_to_df(movies, genres)\n"
   ]
  },
  {
   "cell_type": "code",
   "execution_count": 772,
   "id": "a5f19aee-a407-4493-b03d-7fd111d0ffae",
   "metadata": {},
   "outputs": [],
   "source": [
    "# Split the lists into separate columns with specific names\n",
    "movies[['genre1', 'genre2', 'genre3']] = movies['predicted_genres'].apply(lambda x: pd.Series((x + [None, None, None])[:3]))"
   ]
  },
  {
   "cell_type": "code",
   "execution_count": 45,
   "id": "1b9e05c8-9dfb-4b85-a138-308ab18cf7ab",
   "metadata": {},
   "outputs": [],
   "source": [
    "#I have the tags saved so I don't have to run it again\n",
    "movies = pd.read_csv(\"moviesWithTags.csv\")"
   ]
  },
  {
   "cell_type": "code",
   "execution_count": 46,
   "id": "d387a7db-24ef-47c1-85d6-5b960d3c47be",
   "metadata": {},
   "outputs": [],
   "source": [
    "#movies.head()"
   ]
  },
  {
   "cell_type": "code",
   "execution_count": 47,
   "id": "1e715727-be10-49f6-9308-4c8dba639357",
   "metadata": {},
   "outputs": [],
   "source": [
    "#Keep only the columns we need for similarity\n",
    "movies = movies[['title','genre1','genre2','genre3']]\n",
    "\n",
    "#Drop duplicates\n",
    "movies = movies.drop_duplicates()\n",
    "\n",
    "#Set the 'title' column as our index\n",
    "movies = movies.set_index('title')"
   ]
  },
  {
   "cell_type": "code",
   "execution_count": 49,
   "id": "948246db-d90f-450c-9906-29b1f879c6a3",
   "metadata": {},
   "outputs": [],
   "source": [
    "# Combine genre columns into a single column\n",
    "movies['all_genres'] = movies[['genre1', 'genre2', 'genre3']].astype(str).agg(','.join, axis=1)\n",
    "\n",
    "# Split the genres and create dummy variables for each genre\n",
    "genres = movies['all_genres'].str.get_dummies(sep=',')\n",
    "\n",
    "# Concatenate the dummy variables with the original DataFrame\n",
    "movies = pd.concat([movies, genres], axis=1)\n",
    "\n",
    "# Drop unnecessary columns\n",
    "movies.drop(['all_genres', 'genre1', 'genre2', 'genre3'], axis=1, inplace=True)\n"
   ]
  },
  {
   "cell_type": "code",
   "execution_count": 51,
   "id": "19780937-d947-4a5e-a60f-6d4dce62fcb7",
   "metadata": {},
   "outputs": [
    {
     "name": "stderr",
     "output_type": "stream",
     "text": [
      "/var/folders/m3/8fbzg1013fj174kvh94k5fvh0000gp/T/ipykernel_2317/3902893139.py:2: FutureWarning: DataFrame.groupby with axis=1 is deprecated. Do `frame.T.groupby(...)` without axis instead.\n",
      "  movie_genre_matrix = movies.groupby(level=0, axis=1).sum()\n"
     ]
    }
   ],
   "source": [
    "# If there are duplicate columns due to the one-hot encoding, you can sum them up\n",
    "movie_genre_matrix = movies.groupby(level=0, axis=1).sum()\n",
    "\n",
    "# Calculate cosine similarity \n",
    "similarity_matrix = cosine_similarity(movie_genre_matrix, movie_genre_matrix)"
   ]
  },
  {
   "cell_type": "code",
   "execution_count": 52,
   "id": "f8b03a1d-7fad-44fc-bf22-a327b8ef51de",
   "metadata": {},
   "outputs": [],
   "source": [
    "def find_similar_movies(movie_name, movie_genre_matrix, num_similar_movies=3):\n",
    "    # Calculate cosine similarity\n",
    "    similarity_matrix = cosine_similarity(movie_genre_matrix, movie_genre_matrix)\n",
    "    \n",
    "    # Find the index of the given movie\n",
    "    movie_index = movie_genre_matrix.index.get_loc(movie_name)\n",
    "    \n",
    "    # Sort and get indices of most similar movies (excluding the movie itself)\n",
    "    most_similar_indices = np.argsort(similarity_matrix[movie_index])[:-num_similar_movies-1:-1]\n",
    "    \n",
    "    # Return the most similar movies\n",
    "    return movie_genre_matrix.index[most_similar_indices].tolist()"
   ]
  },
  {
   "cell_type": "code",
   "execution_count": 53,
   "id": "09b5a919-5e8b-4cc1-84a4-24b90e4c7957",
   "metadata": {},
   "outputs": [],
   "source": [
    "movies = movies.reset_index()"
   ]
  },
  {
   "cell_type": "code",
   "execution_count": 54,
   "id": "41cb9bb9-ca94-448d-8d6e-8daa7144f4ee",
   "metadata": {},
   "outputs": [
    {
     "name": "stdout",
     "output_type": "stream",
     "text": [
      "['Eat Pray Love', 'The Big Day', 'Love Dot Com: The Social Experiment', '50 First Dates']\n"
     ]
    }
   ],
   "source": [
    "# Example usage\n",
    "similar_movies = find_similar_movies(\"Eat Pray Love\", movie_genre_matrix, num_similar_movies=4)\n",
    "print(similar_movies)"
   ]
  },
  {
   "cell_type": "code",
   "execution_count": 55,
   "id": "c5b354e0-4db4-4e69-a250-ff58fd3456f1",
   "metadata": {},
   "outputs": [
    {
     "data": {
      "text/html": [
       "<div>\n",
       "<style scoped>\n",
       "    .dataframe tbody tr th:only-of-type {\n",
       "        vertical-align: middle;\n",
       "    }\n",
       "\n",
       "    .dataframe tbody tr th {\n",
       "        vertical-align: top;\n",
       "    }\n",
       "\n",
       "    .dataframe thead th {\n",
       "        text-align: right;\n",
       "    }\n",
       "</style>\n",
       "<table border=\"1\" class=\"dataframe\">\n",
       "  <thead>\n",
       "    <tr style=\"text-align: right;\">\n",
       "      <th>title</th>\n",
       "      <th>Eat Pray Love</th>\n",
       "    </tr>\n",
       "  </thead>\n",
       "  <tbody>\n",
       "    <tr>\n",
       "      <th>romantic comedy</th>\n",
       "      <td>1</td>\n",
       "    </tr>\n",
       "    <tr>\n",
       "      <th>drama</th>\n",
       "      <td>1</td>\n",
       "    </tr>\n",
       "    <tr>\n",
       "      <th>travel/adventure</th>\n",
       "      <td>1</td>\n",
       "    </tr>\n",
       "  </tbody>\n",
       "</table>\n",
       "</div>"
      ],
      "text/plain": [
       "title             Eat Pray Love\n",
       "romantic comedy               1\n",
       "drama                         1\n",
       "travel/adventure              1"
      ]
     },
     "execution_count": 55,
     "metadata": {},
     "output_type": "execute_result"
    }
   ],
   "source": [
    "movie_title = 'Eat Pray Love'\n",
    "movies.loc[movies['title'] == movie_title].groupby('title').sum().T.sort_values(by=movie_title,ascending=False).head(3)\n",
    "\n"
   ]
  },
  {
   "cell_type": "code",
   "execution_count": 56,
   "id": "b5b8deec-72fe-4754-93c3-b9dec3bb2cf2",
   "metadata": {},
   "outputs": [
    {
     "data": {
      "text/html": [
       "<div>\n",
       "<style scoped>\n",
       "    .dataframe tbody tr th:only-of-type {\n",
       "        vertical-align: middle;\n",
       "    }\n",
       "\n",
       "    .dataframe tbody tr th {\n",
       "        vertical-align: top;\n",
       "    }\n",
       "\n",
       "    .dataframe thead th {\n",
       "        text-align: right;\n",
       "    }\n",
       "</style>\n",
       "<table border=\"1\" class=\"dataframe\">\n",
       "  <thead>\n",
       "    <tr style=\"text-align: right;\">\n",
       "      <th>title</th>\n",
       "      <th>50 First Dates</th>\n",
       "    </tr>\n",
       "  </thead>\n",
       "  <tbody>\n",
       "    <tr>\n",
       "      <th>romantic comedy</th>\n",
       "      <td>1</td>\n",
       "    </tr>\n",
       "    <tr>\n",
       "      <th>drama</th>\n",
       "      <td>1</td>\n",
       "    </tr>\n",
       "    <tr>\n",
       "      <th>action</th>\n",
       "      <td>0</td>\n",
       "    </tr>\n",
       "  </tbody>\n",
       "</table>\n",
       "</div>"
      ],
      "text/plain": [
       "title            50 First Dates\n",
       "romantic comedy               1\n",
       "drama                         1\n",
       "action                        0"
      ]
     },
     "execution_count": 56,
     "metadata": {},
     "output_type": "execute_result"
    }
   ],
   "source": [
    "movie_title = '50 First Dates'\n",
    "movies.loc[movies['title'] == movie_title].groupby('title').sum().T.sort_values(by=movie_title,ascending=False).head(3)\n",
    "\n"
   ]
  },
  {
   "cell_type": "code",
   "execution_count": 67,
   "id": "f6c2c9f0-27bc-46e7-9fc8-426f2a25fcbb",
   "metadata": {},
   "outputs": [
    {
     "name": "stdout",
     "output_type": "stream",
     "text": [
      "['Beavis and Butt-head Do America', \"Pee-wee's Big Holiday\", 'A Shaun the Sheep Movie: Farmageddon', 'The Secret Life of Pets 2']\n"
     ]
    }
   ],
   "source": [
    "# Example usage\n",
    "similar_movies = find_similar_movies(\"Beavis and Butt-head Do America\", movie_genre_matrix, num_similar_movies=4)\n",
    "print(similar_movies)"
   ]
  },
  {
   "cell_type": "code",
   "execution_count": 70,
   "id": "63748de8-0e1f-4bea-87d6-21ef6e12fef7",
   "metadata": {},
   "outputs": [
    {
     "name": "stdout",
     "output_type": "stream",
     "text": [
      "['Army of the Dead', 'Fallen', 'RESIDENT EVIL: Infinite Darkness', 'Shooter']\n"
     ]
    }
   ],
   "source": [
    "similar_movies = find_similar_movies(\"Army of the Dead\", movie_genre_matrix, num_similar_movies=4)\n",
    "print(similar_movies)"
   ]
  },
  {
   "cell_type": "code",
   "execution_count": 73,
   "id": "a41c3e3e-eb3d-4130-be86-56d72ebef248",
   "metadata": {},
   "outputs": [
    {
     "data": {
      "text/html": [
       "<div>\n",
       "<style scoped>\n",
       "    .dataframe tbody tr th:only-of-type {\n",
       "        vertical-align: middle;\n",
       "    }\n",
       "\n",
       "    .dataframe tbody tr th {\n",
       "        vertical-align: top;\n",
       "    }\n",
       "\n",
       "    .dataframe thead th {\n",
       "        text-align: right;\n",
       "    }\n",
       "</style>\n",
       "<table border=\"1\" class=\"dataframe\">\n",
       "  <thead>\n",
       "    <tr style=\"text-align: right;\">\n",
       "      <th>title</th>\n",
       "      <th>Pee-wee's Big Holiday</th>\n",
       "    </tr>\n",
       "  </thead>\n",
       "  <tbody>\n",
       "    <tr>\n",
       "      <th>comedy</th>\n",
       "      <td>1</td>\n",
       "    </tr>\n",
       "    <tr>\n",
       "      <th>adventure</th>\n",
       "      <td>1</td>\n",
       "    </tr>\n",
       "    <tr>\n",
       "      <th>fantasy</th>\n",
       "      <td>1</td>\n",
       "    </tr>\n",
       "  </tbody>\n",
       "</table>\n",
       "</div>"
      ],
      "text/plain": [
       "title      Pee-wee's Big Holiday\n",
       "comedy                         1\n",
       "adventure                      1\n",
       "fantasy                        1"
      ]
     },
     "execution_count": 73,
     "metadata": {},
     "output_type": "execute_result"
    }
   ],
   "source": [
    "movie_title = \"Pee-wee's Big Holiday\"\n",
    "movies.loc[movies['title'] == movie_title].groupby('title').sum().T.sort_values(by=movie_title,ascending=False).head(3)\n",
    "\n"
   ]
  },
  {
   "cell_type": "code",
   "execution_count": null,
   "id": "ea2a532f-b9b6-47a9-9bad-e0c77ce7d887",
   "metadata": {},
   "outputs": [],
   "source": [
    "movies.to_csv(\"moviesWithTags.csv\")"
   ]
  },
  {
   "cell_type": "markdown",
   "id": "fb7ab5a2-154e-4827-ad10-404d6d2f7dc3",
   "metadata": {},
   "source": [
    "# Visualization code"
   ]
  },
  {
   "cell_type": "code",
   "execution_count": null,
   "id": "9c7abd9b-7a75-43ad-ad3a-233efc015923",
   "metadata": {},
   "outputs": [],
   "source": [
    "import pandas as pd\n",
    "from itertools import combinations\n"
   ]
  },
  {
   "cell_type": "code",
   "execution_count": null,
   "id": "d0a297a3-1923-470b-9b0e-226548ce180f",
   "metadata": {},
   "outputs": [],
   "source": [
    "movies = pd.read_csv(\"moviesWithTags.csv\")"
   ]
  },
  {
   "cell_type": "code",
   "execution_count": null,
   "id": "bd2d6717-1334-466a-98ca-663c257a9b45",
   "metadata": {},
   "outputs": [],
   "source": [
    "# Melt the dataframe to unpivot genre columns\n",
    "melted_df = pd.melt(movies, id_vars=['title'], value_vars=['genre1', 'genre2', 'genre3'], var_name='Genre', value_name='GenreValue')\n",
    "\n",
    "genre_links = pd.crosstab(index=melted_df['title'], columns=melted_df['GenreValue'])\n",
    "\n",
    "# Create combinations of genres for each title\n",
    "combinations_list = []\n",
    "\n",
    "for title, group in melted_df.groupby('title')['GenreValue']:\n",
    "    genre_combinations = list(combinations(group, 2))\n",
    "    combinations_list.extend([(title, combo[0], combo[1]) for combo in genre_combinations])\n",
    "\n",
    "# Create a new dataframe from the combinations list\n",
    "combinations_df = pd.DataFrame(combinations_list, columns=['title', 'Genre1', 'Genre2'])\n",
    "\n",
    "combinations_df = combinations_df[['Genre1','Genre2']]\n",
    "\n",
    "combinations_df = combinations_df.rename(columns={\"Genre1\": \"source\", \"Genre2\": \"target\"}, errors=\"raise\")\n",
    "\n",
    "combinations_df = combinations_df.set_index('source')\n",
    "\n",
    "combinations_df.to_csv(\"genreCombos.csv\")\n",
    "combinations_df.to_pickle(\"genreCombos.pkl\")  \n"
   ]
  }
 ],
 "metadata": {
  "kernelspec": {
   "display_name": "Python 3 (ipykernel)",
   "language": "python",
   "name": "python3"
  },
  "language_info": {
   "codemirror_mode": {
    "name": "ipython",
    "version": 3
   },
   "file_extension": ".py",
   "mimetype": "text/x-python",
   "name": "python",
   "nbconvert_exporter": "python",
   "pygments_lexer": "ipython3",
   "version": "3.11.7"
  }
 },
 "nbformat": 4,
 "nbformat_minor": 5
}
