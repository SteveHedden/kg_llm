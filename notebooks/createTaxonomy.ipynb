{
 "cells": [
  {
   "cell_type": "code",
   "execution_count": 3,
   "id": "ed41e9af-d525-4ddd-a592-f503883429b4",
   "metadata": {},
   "outputs": [],
   "source": [
    "import openai\n",
    "import os\n",
    "import re\n",
    "import pandas as pd\n",
    "import spacy\n",
    "from ipywidgets import FloatProgress\n",
    "from tqdm import tqdm"
   ]
  },
  {
   "cell_type": "code",
   "execution_count": 5,
   "id": "6f886cda-47d0-4db7-944a-2f47d305920d",
   "metadata": {},
   "outputs": [],
   "source": [
    "# Load English tokenizer, tagger, parser and NER\n",
    "nlp = spacy.load(\"en_core_web_sm\")"
   ]
  },
  {
   "cell_type": "code",
   "execution_count": 11,
   "id": "c76f6d03-1cd2-477f-b11e-14869ee815a8",
   "metadata": {},
   "outputs": [],
   "source": [
    "os.environ[\"OPENAI_API_KEY\"] = \"XXXXX\"  # replace with yours"
   ]
  },
  {
   "cell_type": "code",
   "execution_count": 12,
   "id": "8059e210-a24f-4ebb-a588-ae85e5d56df7",
   "metadata": {},
   "outputs": [],
   "source": [
    "movies = pd.read_csv(\"netflix_titles.csv\")\n",
    "movies = movies.sample(n=1000)"
   ]
  },
  {
   "cell_type": "code",
   "execution_count": 14,
   "id": "53f927ca-1887-436e-b7a3-5a8f31c1cdb3",
   "metadata": {},
   "outputs": [],
   "source": [
    "def predict_genres(movie_description):\n",
    "    prompt = f\"Predict the top three genres (only genres, not descriptions) for a movie with the following description: {movie_description}\"\n",
    "    response = openai.completions.create(\n",
    "      model=\"gpt-3.5-turbo-instruct\",  # You can use the GPT-3 model for this task\n",
    "      prompt=prompt,\n",
    "      max_tokens=50,\n",
    "      n=1,\n",
    "      stop=None,\n",
    "      temperature=0.2\n",
    "    )\n",
    "    predicted_genres = response.choices[0].text.strip()\n",
    "    return predicted_genres"
   ]
  },
  {
   "cell_type": "code",
   "execution_count": 15,
   "id": "fc05d733-419c-42b8-9473-68dcdb18ee87",
   "metadata": {},
   "outputs": [
    {
     "name": "stderr",
     "output_type": "stream",
     "text": [
      "100%|█████████████████████████████████████████| 100/100 [00:46<00:00,  2.17it/s]\n"
     ]
    }
   ],
   "source": [
    "# Create an empty list to store the predicted genres\n",
    "all_predicted_genres = []\n",
    "\n",
    "# Create an empty set to store unique genres\n",
    "unique_genres_set = set()\n",
    "\n",
    "# Iterate through the movie descriptions\n",
    "for index, row in tqdm(movies.iterrows(), total=movies.shape[0]):\n",
    "    \n",
    "        # Get the movie description\n",
    "        movie_description = row['description']\n",
    "    \n",
    "        # Predict the genres for the movie description\n",
    "        predicted_genres = predict_genres(movie_description)\n",
    "    \n",
    "        # Extract genres from the text\n",
    "        predicted_genres_tokens = nlp(predicted_genres)\n",
    "        predicted_genres_tokens = predicted_genres_tokens.text\n",
    "        \n",
    "        # Use regular expression to extract genres\n",
    "        genres_with_numbers = re.findall(r'\\d+\\.\\s*([^\\n]+)', predicted_genres_tokens)\n",
    "        \n",
    "        # Remove leading/trailing whitespaces from each genre\n",
    "        predicted_genres = [genre.strip().lower() for genre in genres_with_numbers]\n",
    "    \n",
    "        # Update the set of unique genres\n",
    "        unique_genres_set.update(predicted_genres)\n",
    "\n",
    "# Convert the set of unique genres back to a list\n",
    "all_unique_genres = list(unique_genres_set)"
   ]
  },
  {
   "cell_type": "code",
   "execution_count": 16,
   "id": "0cf38322-3369-41d7-8433-5b54cd487057",
   "metadata": {},
   "outputs": [],
   "source": [
    "all_unique_genres = pd.DataFrame(all_unique_genres,columns=['genre'])"
   ]
  },
  {
   "cell_type": "code",
   "execution_count": 17,
   "id": "5d9e09f7-98ba-4597-b399-877a93c3db71",
   "metadata": {},
   "outputs": [
    {
     "data": {
      "text/html": [
       "<div>\n",
       "<style scoped>\n",
       "    .dataframe tbody tr th:only-of-type {\n",
       "        vertical-align: middle;\n",
       "    }\n",
       "\n",
       "    .dataframe tbody tr th {\n",
       "        vertical-align: top;\n",
       "    }\n",
       "\n",
       "    .dataframe thead th {\n",
       "        text-align: right;\n",
       "    }\n",
       "</style>\n",
       "<table border=\"1\" class=\"dataframe\">\n",
       "  <thead>\n",
       "    <tr style=\"text-align: right;\">\n",
       "      <th></th>\n",
       "      <th>genre</th>\n",
       "    </tr>\n",
       "  </thead>\n",
       "  <tbody>\n",
       "    <tr>\n",
       "      <th>0</th>\n",
       "      <td>social commentary</td>\n",
       "    </tr>\n",
       "    <tr>\n",
       "      <th>1</th>\n",
       "      <td>children's music</td>\n",
       "    </tr>\n",
       "    <tr>\n",
       "      <th>2</th>\n",
       "      <td>fantasy</td>\n",
       "    </tr>\n",
       "    <tr>\n",
       "      <th>3</th>\n",
       "      <td>animation</td>\n",
       "    </tr>\n",
       "    <tr>\n",
       "      <th>4</th>\n",
       "      <td>family</td>\n",
       "    </tr>\n",
       "  </tbody>\n",
       "</table>\n",
       "</div>"
      ],
      "text/plain": [
       "               genre\n",
       "0  social commentary\n",
       "1   children's music\n",
       "2            fantasy\n",
       "3          animation\n",
       "4             family"
      ]
     },
     "execution_count": 17,
     "metadata": {},
     "output_type": "execute_result"
    }
   ],
   "source": [
    "all_unique_genres.head()"
   ]
  },
  {
   "cell_type": "code",
   "execution_count": 31,
   "id": "1e3f0392-4a99-4ef7-9993-0b887c883b42",
   "metadata": {},
   "outputs": [],
   "source": [
    "all_unique_genres.to_csv(\"genres_taxonomy_quick.csv\")"
   ]
  },
  {
   "cell_type": "code",
   "execution_count": null,
   "id": "e5598d92-3889-4a29-a8ea-6a5b535f3610",
   "metadata": {},
   "outputs": [],
   "source": []
  },
  {
   "cell_type": "code",
   "execution_count": null,
   "id": "109ac520-f4ce-4315-af65-bda3bd1fb541",
   "metadata": {},
   "outputs": [],
   "source": []
  }
 ],
 "metadata": {
  "kernelspec": {
   "display_name": "Python 3 (ipykernel)",
   "language": "python",
   "name": "python3"
  },
  "language_info": {
   "codemirror_mode": {
    "name": "ipython",
    "version": 3
   },
   "file_extension": ".py",
   "mimetype": "text/x-python",
   "name": "python",
   "nbconvert_exporter": "python",
   "pygments_lexer": "ipython3",
   "version": "3.11.7"
  }
 },
 "nbformat": 4,
 "nbformat_minor": 5
}
